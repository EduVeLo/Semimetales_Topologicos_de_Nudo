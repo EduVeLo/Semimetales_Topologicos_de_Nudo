{
 "cells": [
  {
   "cell_type": "markdown",
   "id": "ef9a5b3a",
   "metadata": {},
   "source": [
    "## Transporte en Semimetal Topoógico del Nudo Trebol\n",
    "\n",
    "En el modelo tenemos un hamiltoniano effectivo de la aproximación de amarre fuerte, que se produce con los primos relativos (3,2), donde se incluye simetría $\\mathcal{PT}$ y simetría de electrón-hueco $\\mathcal{\\Xi}$. Primero se plantea el hamiltoniano continuo a bajas energias, el cual esta asociado con las funciones:\n",
    "\n",
    "\\begin{align}\n",
    "a_1(\\vec{k}) &=k_x^3-3k_Xk_y^2+k_z^2-(m-0.5k^2)^2 \\quad; \\quad a_3(\\vec{k})= 3k_x^2k_y-k_y^3+k_z(2m-k^2)\\\\\n",
    "H(\\vec{k}) &= a_1\\cdot \\sigma_x + a_3\\cdot \\sigma_z +m_z\\cdot \\sigma_z \n",
    "\\end{align}\n",
    "En este sistema finito analizamos la conductancia y las estructura de bandas en una terminal con el eje periódico en una dirección. \n",
    "Las unidades de energía en este sistema $\\hbar v_f = 1$\n",
    "\n",
    "https://journals.aps.org/prb/abstract/10.1103/PhysRevB.96.201305"
   ]
  },
  {
   "cell_type": "code",
   "execution_count": null,
   "id": "d8acb76e",
   "metadata": {},
   "outputs": [],
   "source": [
    "import numpy as np\n",
    "import matplotlib.pyplot as plt\n",
    "import kwant\n",
    "import kwant.continuum\n",
    "\n",
    "import ipywidgets\n",
    "from tqdm.notebook import tqdm\n",
    "\n",
    "pi = np.pi"
   ]
  },
  {
   "cell_type": "code",
   "execution_count": null,
   "id": "a804ca8e",
   "metadata": {},
   "outputs": [],
   "source": [
    "a = 1.0\n",
    "#Hamiltoniano continuo\n",
    "Weyl_ham3D_trebol = \"\"\"\n",
    "    (k_x*k_x*k_x-3*k_x*k_y*k_y+k_z*k_z-(m-0.5*k_x*k_x-0.5*k_y*k_y-0.5*k_z*k_z)*(m-0.5*k_x*k_x-0.5*k_y*k_y-0.5*k_z*k_z) )*sigma_x \n",
    "    + (3*k_x*k_x*k_y-k_y*k_y*k_y +k_z*(2*m-k_x*k_x-k_y*k_y-k_z*k_z)+mz )*sigma_z\n",
    "    + V(x,y,z)*sigma_0\n",
    "\"\"\"\n",
    "\n",
    "wire_template = kwant.continuum.discretize(Weyl_ham3D_trebol,grid=a)"
   ]
  },
  {
   "cell_type": "code",
   "execution_count": null,
   "id": "213f6e16",
   "metadata": {},
   "outputs": [],
   "source": [
    "# Definir bloque periodico en una direccion, y de longitud L, ancho W y altura Z \n",
    "def kwantsyst_leadx(W=20,L=20,Z =20):\n",
    "    def Shape(site):\n",
    "        (x, y, z) = site.pos\n",
    "        return (0 <= y < W and 0 <= x < L and 0 <= z < Z)\n",
    "\n",
    "    # Definir bloque peri\\'odico en y\n",
    "    def lead_shape_y(site):\n",
    "        (x, y, z) = site.pos\n",
    "        return (0 <= y < W and 0 <= z < Z )\n",
    "\n",
    "    syst = kwant.Builder()\n",
    "    syst.fill(wire_template, Shape, (0, 0, 0))\n",
    "\n",
    "    lead = kwant.Builder(kwant.TranslationalSymmetry([-a, 0, 0]))\n",
    "    lead.fill(wire_template, lead_shape_y, (0, 0, 0))\n",
    "\n",
    "    syst.attach_lead(lead)\n",
    "    syst.attach_lead(lead.reversed())\n",
    "\n",
    "    syst = syst.finalized()\n",
    "    return syst\n",
    "\n",
    "def kwantsyst_leady(W=20,L=20,Z =20):\n",
    "    def Shape(site):\n",
    "        (x, y, z) = site.pos\n",
    "        return (0 <= y < W and 0 <= x < L and 0 <= z < Z)\n",
    "\n",
    "    # Definir bloque peri\\'odico en y\n",
    "    def lead_shape_y(site):\n",
    "        (x, y, z) = site.pos\n",
    "        return (0 <= x < L and 0 <= z < W )\n",
    "\n",
    "    syst = kwant.Builder()\n",
    "    syst.fill(wire_template, Shape, (0, 0, 0))\n",
    "\n",
    "    lead = kwant.Builder(kwant.TranslationalSymmetry([0,-a, 0]))\n",
    "    lead.fill(wire_template, lead_shape_y, (0, 0, 0))\n",
    "\n",
    "    syst.attach_lead(lead)\n",
    "    syst.attach_lead(lead.reversed())\n",
    "\n",
    "    syst = syst.finalized()\n",
    "    return syst\n",
    "\n",
    "\n",
    "def kwantsyst_leadz(W=20,L=20,Z =20):\n",
    "    def Shape(site):\n",
    "        (x, y, z) = site.pos\n",
    "        return (0 <= x < L and 0 <= y < W and 0 <= z < Z)\n",
    "\n",
    "    # Definir bloque peri\\'odico en y\n",
    "    def lead_shape_y(site):\n",
    "        (x, y, z) = site.pos\n",
    "        return (0 <= x < L and 0 <= y < W )\n",
    "\n",
    "    syst = kwant.Builder()\n",
    "    syst.fill(wire_template, Shape, (0, 0, 0))\n",
    "\n",
    "    lead = kwant.Builder(kwant.TranslationalSymmetry([0, 0, -a]))\n",
    "    lead.fill(wire_template, lead_shape_y, (0, 0, 0))\n",
    "\n",
    "    syst.attach_lead(lead)\n",
    "    syst.attach_lead(lead.reversed())\n",
    "\n",
    "    syst = syst.finalized()\n",
    "    return syst"
   ]
  },
  {
   "cell_type": "code",
   "execution_count": null,
   "id": "d3f850d6",
   "metadata": {},
   "outputs": [],
   "source": [
    "syst = kwantsyst_leadx()"
   ]
  },
  {
   "cell_type": "code",
   "execution_count": null,
   "id": "2815bf84",
   "metadata": {},
   "outputs": [],
   "source": [
    "#visualizar nuestro bloque finito de syst\n",
    "fig = plt.figure()\n",
    "ax = kwant.plot(syst)\n",
    "ax.savefig(\"trenl_leadx.png\")"
   ]
  },
  {
   "cell_type": "code",
   "execution_count": null,
   "id": "0c83b8c2",
   "metadata": {},
   "outputs": [],
   "source": [
    "# Potenciales, parametros del modelo y calculo de Conductividad\n",
    "def potential(x,y,z):\n",
    "    return 0*x+0*y+0*z\n",
    "\n",
    "DATA = {\"m\":2.8,\n",
    "           \"mz\":0,\n",
    "       \"V\":potential}\n",
    "#Calculo de la conductancia\n",
    "def plot_conductance(E):\n",
    "    global syst\n",
    "    global DATA_25\n",
    "    smatrix = kwant.smatrix(syst, E, params=DATA_25)\n",
    "    T = smatrix.transmission(1, 0) \n",
    "    return E,T"
   ]
  },
  {
   "cell_type": "code",
   "execution_count": null,
   "id": "e29055f1",
   "metadata": {},
   "outputs": [],
   "source": [
    "k_node = [-pi, -pi/2, 0, pi/2, pi]\n",
    "klabel = [ r\"$-\\pi$\",r\"$-\\frac{\\pi}{2}$\",0,r\"$\\frac{\\pi}{2}$\",r\"$\\pi$\"]"
   ]
  },
  {
   "cell_type": "code",
   "execution_count": null,
   "id": "77da0541",
   "metadata": {},
   "outputs": [],
   "source": [
    "%%time\n",
    "#Estructura de banda en un lead\n",
    "plt.figure()\n",
    "ax = kwant.plotter.bands(syst.leads[0], params=DATA,\n",
    "                    momenta=np.linspace(-pi, pi, 201),\n",
    "                    show=False)\n",
    "plt.ylim(-1,1)\n",
    "plt.xlabel(\"$k_x$\")\n",
    "plt.xticks(k_node,klabel)\n",
    "ax.savefig(\"2502bs_lnr_tsm_leadx_20x20.png\")"
   ]
  }
 ],
 "metadata": {
  "kernelspec": {
   "display_name": "Python 3",
   "language": "python",
   "name": "python3"
  },
  "language_info": {
   "codemirror_mode": {
    "name": "ipython",
    "version": 3
   },
   "file_extension": ".py",
   "mimetype": "text/x-python",
   "name": "python",
   "nbconvert_exporter": "python",
   "pygments_lexer": "ipython3",
   "version": "3.8.8"
  }
 },
 "nbformat": 4,
 "nbformat_minor": 5
}
