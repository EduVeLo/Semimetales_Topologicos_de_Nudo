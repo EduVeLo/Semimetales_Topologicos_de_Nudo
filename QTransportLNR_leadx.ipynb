{
 "cells": [
  {
   "cell_type": "markdown",
   "metadata": {},
   "source": [
    "## Conductancia en Semimetales Topológicos de Nudo\n",
    "### Nudo Anillos Enlazados (Linked Nodal Ring)\n",
    "En este modelo tenemos un hamiltoniano effectivo de la aproximación de amarre fuerte que se produce con los primos relativos (2,2), donde se incluye simetría $\\mathcal{PT}$ y simetría de electrón-hueco $\\mathcal{\\Xi}$. Primero se plantea el hamiltoniano continuo a bajas energias, el cual esta asociado con las funciones:\n",
    "\n",
    "\\begin{align}\n",
    "H(\\vec{k}) &= a_1\\cdot \\sigma_x + a_3\\cdot \\sigma_z\\\\\n",
    "a_1(\\vec{k}) &=k_x^2-k_y^2+k_z^2-(m-0.5k^2)^2 \\quad; \\quad a_3= 2k_xk_y+k_z(2m-k^2)\n",
    "\\end{align}"
   ]
  },
  {
   "cell_type": "code",
   "execution_count": null,
   "metadata": {
    "ExecuteTime": {
     "end_time": "2021-05-28T21:37:45.268543Z",
     "start_time": "2021-05-28T21:37:44.580574Z"
    }
   },
   "outputs": [],
   "source": [
    "import numpy as np\n",
    "import matplotlib.pyplot as plt\n",
    "import kwant\n",
    "import kwant.continuum\n",
    "\n",
    "import ipywidgets\n",
    "from tqdm.notebook import tqdm\n",
    "\n",
    "pi = np.pi"
   ]
  },
  {
   "cell_type": "code",
   "execution_count": null,
   "metadata": {
    "ExecuteTime": {
     "end_time": "2021-05-28T21:37:48.690723Z",
     "start_time": "2021-05-28T21:37:46.098039Z"
    }
   },
   "outputs": [],
   "source": [
    "a = 1.0\n",
    "\n",
    "Weyl_hamiltonian3D = \"\"\"\n",
    "    (k_x*k_x-k_y*k_y+k_z*k_z-(m-0.5*k_x*k_x-0.5*k_y*k_y-0.5*k_z*k_z)*(m-0.5*k_x*k_x-0.5*k_y*k_y-0.5*k_z*k_z) )*sigma_x \n",
    "    + ( 2*k_x*k_y+k_z*(2*m-k_x*k_x-k_y*k_y-k_z*k_z)+mz)*sigma_z\n",
    "    + V(x,y,z)*sigma_0\n",
    "\"\"\"\n",
    "\n",
    "wire_template = kwant.continuum.discretize(Weyl_hamiltonian3D,grid=a)"
   ]
  },
  {
   "cell_type": "code",
   "execution_count": null,
   "metadata": {},
   "outputs": [],
   "source": [
    "# Definir bloque periodico en x(lead en direccion x)\n",
    "def kwant_syst(W=20,L=20,Z=20):\n",
    "    def Shape(site):\n",
    "        (x, y, z) = site.pos\n",
    "        return (0 <= y < W and 0 <= x < L and 0 <= z < Z)\n",
    "\n",
    "    def lead_shape_x(site):\n",
    "        (x, y, z) = site.pos\n",
    "        return (0 <= y < W and 0 <= z < Z )\n",
    "\n",
    "    syst = kwant.Builder()\n",
    "    syst.fill(wire_template, Shape, (0, 0, 0))\n",
    "\n",
    "    lead = kwant.Builder(kwant.TranslationalSymmetry([-a, 0, 0]))\n",
    "    lead.fill(wire_template, lead_shape_x, (0, 0, 0))\n",
    "\n",
    "    syst.attach_lead(lead)\n",
    "    syst.attach_lead(lead.reversed())\n",
    "\n",
    "    syst = syst.finalized()\n",
    "    return syst"
   ]
  },
  {
   "cell_type": "code",
   "execution_count": null,
   "metadata": {
    "ExecuteTime": {
     "end_time": "2021-05-28T21:37:59.305177Z",
     "start_time": "2021-05-28T21:37:59.298279Z"
    }
   },
   "outputs": [],
   "source": [
    "syst = kwant_syst()\n",
    "def potential(x,y,z):\n",
    "    return 0*x+0*y+0*z\n",
    "DATA = {\"m\":2.5,\n",
    "           \"mz\":0.2,\n",
    "       \"V\":potential}"
   ]
  },
  {
   "cell_type": "code",
   "execution_count": null,
   "metadata": {
    "ExecuteTime": {
     "end_time": "2021-05-28T21:38:04.370936Z",
     "start_time": "2021-05-28T21:38:04.362344Z"
    }
   },
   "outputs": [],
   "source": [
    "# Compute conductance\n",
    "def plot_conductance(E):\n",
    "    global syst\n",
    "    global DATA\n",
    "    smatrix = kwant.smatrix(syst, E, params=DATA)\n",
    "    T = smatrix.transmission(1, 0) \n",
    "    return E,T"
   ]
  },
  {
   "cell_type": "code",
   "execution_count": null,
   "metadata": {},
   "outputs": [],
   "source": [
    "k_node = [-pi, -pi/2, 0, pi/2, pi]\n",
    "klabel = [ r\"$-\\pi$\",r\"$-\\frac{\\pi}{2}$\",0,r\"$\\frac{\\pi}{2}$\",r\"$\\pi$\"]"
   ]
  },
  {
   "cell_type": "code",
   "execution_count": null,
   "metadata": {},
   "outputs": [],
   "source": [
    "%%time\n",
    "plt.figure()\n",
    "ax = kwant.plotter.bands(syst.leads[0], params=DATA,\n",
    "                    momenta=np.linspace(-pi, pi, 201),\n",
    "                    show=False)\n",
    "plt.ylim(-1,1)\n",
    "plt.xlabel(\"$k_x$\")\n",
    "plt.xticks(k_node,klabel)\n",
    "ax.savefig(\"2502bs_lnr_tsm_leadx_20x20.png\")"
   ]
  },
  {
   "cell_type": "code",
   "execution_count": null,
   "metadata": {},
   "outputs": [],
   "source": [
    "DATA = {\"m\":2.5,\n",
    "           \"mz\":0.4,\n",
    "       \"V\":potential}"
   ]
  },
  {
   "cell_type": "code",
   "execution_count": null,
   "metadata": {},
   "outputs": [],
   "source": [
    "%%time\n",
    "plt.figure()\n",
    "ax = kwant.plotter.bands(syst.leads[0], params=DATA,\n",
    "                    momenta=np.linspace(-pi, pi, 201),\n",
    "                    show=False)\n",
    "plt.ylim(-1,1)\n",
    "plt.xlabel(\"$k_x$\")\n",
    "plt.xticks(k_node,klabel)\n",
    "ax.savefig(\"2504bs_lnr_tsm_leadx_20x20.png\")"
   ]
  },
  {
   "cell_type": "code",
   "execution_count": null,
   "metadata": {},
   "outputs": [],
   "source": [
    "Datos2 = np.loadtxt(\"Datos_25_x.txt\")"
   ]
  },
  {
   "cell_type": "code",
   "execution_count": null,
   "metadata": {},
   "outputs": [],
   "source": [
    "plt.figure()\n",
    "plt.title(\"lead en x, m=2.5\")\n",
    "plt.plot(Datos2.T[0], Datos2.T[1])\n",
    "plt.xlabel(\"energy \")\n",
    "plt.ylabel(\"conductance [e^2/h]\")\n",
    "plt.savefig(\"25c_lnr_tsm_leadx_20x20_1.png\")\n",
    "plt.show()"
   ]
  },
  {
   "cell_type": "code",
   "execution_count": null,
   "metadata": {},
   "outputs": [],
   "source": [
    "Datos3 = np.loadtxt(\"ddatos_25_x.txt\")\n",
    "Energies = [ 0.0025*(i+1) for i in range(200)]"
   ]
  },
  {
   "cell_type": "code",
   "execution_count": null,
   "metadata": {},
   "outputs": [],
   "source": [
    "plt.figure()\n",
    "plt.title(\"lead en x, m=2.5\")\n",
    "plt.plot(Energies, Datos3)\n",
    "plt.xlabel(\"energy\")\n",
    "plt.ylabel(\"conductance [e^2/h]\")\n",
    "plt.ylim(20,35)\n",
    "#plt.savefig(\"25c_lnr_tsm_leadx_20x20_2.png\")\n",
    "plt.show()"
   ]
  },
  {
   "cell_type": "code",
   "execution_count": null,
   "metadata": {},
   "outputs": [],
   "source": [
    "#syst = kwant_syst( 30, 30, 30)"
   ]
  },
  {
   "cell_type": "code",
   "execution_count": null,
   "metadata": {},
   "outputs": [],
   "source": [
    "#%%time\n",
    "#plt.figure()\n",
    "#ax = kwant.plotter.bands(syst.leads[0], params=DATA,\n",
    "#                    momenta=np.linspace(-pi, pi, 201),\n",
    "#                    show=False)\n",
    "#plt.ylim(-1,1)\n",
    "#plt.xlabel(\"$k_x$\")\n",
    "#plt.xticks(k_node,klabel)\n",
    "#ax.savefig(\"25bs_lnr_tsm_leadx_30x30.png\")"
   ]
  },
  {
   "cell_type": "code",
   "execution_count": null,
   "metadata": {},
   "outputs": [],
   "source": [
    "#DATA = {\"m\":2.5,\n",
    "#           \"mz\":0.2,\n",
    "#       \"V\":potential}"
   ]
  },
  {
   "cell_type": "code",
   "execution_count": null,
   "metadata": {},
   "outputs": [],
   "source": [
    "#%%time\n",
    "#plt.figure()\n",
    "#ax = kwant.plotter.bands(syst.leads[0], params=DATA,\n",
    "#                    momenta=np.linspace(-pi, pi, 201),\n",
    "#                    show=False)\n",
    "#plt.ylim(-1,1)\n",
    "#plt.xlabel(\"$k_x$\")\n",
    "#plt.xticks(k_node,klabel)\n",
    "#ax.savefig(\"2502bs_lnr_tsm_leadx_30x30.png\")"
   ]
  },
  {
   "cell_type": "code",
   "execution_count": null,
   "metadata": {},
   "outputs": [],
   "source": [
    "#DATA = {\"m\":2.5,\n",
    "#           \"mz\":0.4,\n",
    "#       \"V\":potential}"
   ]
  },
  {
   "cell_type": "code",
   "execution_count": null,
   "metadata": {},
   "outputs": [],
   "source": [
    "#%%time\n",
    "#plt.figure()\n",
    "#ax = kwant.plotter.bands(syst.leads[0], params=DATA,\n",
    "#                    momenta=np.linspace(-pi, pi, 201),\n",
    "#                    show=False)\n",
    "#plt.ylim(-1,1)\n",
    "#plt.xlabel(\"$k_x$\")\n",
    "#plt.xticks(k_node,klabel)\n",
    "#ax.savefig(\"2504bs_lnr_tsm_leadx_30x30.png\")"
   ]
  },
  {
   "cell_type": "code",
   "execution_count": null,
   "metadata": {},
   "outputs": [],
   "source": [
    "#DATA = {\"m\":1.5,\n",
    "#           \"mz\":0,\n",
    "#       \"V\":potential}"
   ]
  },
  {
   "cell_type": "code",
   "execution_count": null,
   "metadata": {
    "scrolled": true
   },
   "outputs": [],
   "source": [
    "#%%time\n",
    "#plt.figure()\n",
    "#ax = kwant.plotter.bands(syst.leads[0], params=DATA,\n",
    "#                    momenta=np.linspace(-pi, pi, 201),\n",
    "#                    show=False)\n",
    "#plt.ylim(-1,1)\n",
    "#plt.xlabel(\"$k_x$\")\n",
    "#plt.xticks(k_node,klabel)\n",
    "#ax.savefig(\"15bs_lnr_tsm_leadx_30x30.png\")"
   ]
  },
  {
   "cell_type": "code",
   "execution_count": null,
   "metadata": {},
   "outputs": [],
   "source": [
    "#DATA = {\"m\":1.5,\n",
    "#           \"mz\":0.2,\n",
    "#       \"V\":potential}"
   ]
  },
  {
   "cell_type": "code",
   "execution_count": null,
   "metadata": {},
   "outputs": [],
   "source": [
    "#%%time\n",
    "#plt.figure()\n",
    "#ax = kwant.plotter.bands(syst.leads[0], params=DATA,\n",
    "#                    momenta=np.linspace(-pi, pi, 201),\n",
    "#                    show=False)\n",
    "#plt.ylim(-1,1)\n",
    "#plt.xlabel(\"$k_x$\")\n",
    "#plt.xticks(k_node,klabel)\n",
    "#ax.savefig(\"1502bs_lnr_tsm_leadx_30x30.png\")"
   ]
  },
  {
   "cell_type": "code",
   "execution_count": null,
   "metadata": {},
   "outputs": [],
   "source": [
    "#DATA = {\"m\":1.5,\n",
    "#           \"mz\":0.4,\n",
    "#       \"V\":potential}"
   ]
  },
  {
   "cell_type": "code",
   "execution_count": null,
   "metadata": {},
   "outputs": [],
   "source": [
    "#%%time\n",
    "#plt.figure()\n",
    "#ax = kwant.plotter.bands(syst.leads[0], params=DATA,\n",
    "#                    momenta=np.linspace(-pi, pi, 201),\n",
    "#                    show=False)\n",
    "#plt.ylim(-1,1)\n",
    "#plt.xlabel(\"$k_x$\")\n",
    "#plt.xticks(k_node,klabel)\n",
    "#ax.savefig(\"1504bs_lnr_tsm_leadx_30x30.png\")"
   ]
  }
 ],
 "metadata": {
  "kernelspec": {
   "display_name": "Python 3",
   "language": "python",
   "name": "python3"
  },
  "language_info": {
   "codemirror_mode": {
    "name": "ipython",
    "version": 3
   },
   "file_extension": ".py",
   "mimetype": "text/x-python",
   "name": "python",
   "nbconvert_exporter": "python",
   "pygments_lexer": "ipython3",
   "version": "3.8.8"
  },
  "latex_envs": {
   "LaTeX_envs_menu_present": true,
   "autoclose": false,
   "autocomplete": false,
   "bibliofile": "biblio.bib",
   "cite_by": "apalike",
   "current_citInitial": 1,
   "eqLabelWithNumbers": true,
   "eqNumInitial": 1,
   "hotkeys": {
    "equation": "Ctrl-E",
    "itemize": "Ctrl-I"
   },
   "labels_anchors": false,
   "latex_user_defs": false,
   "report_style_numbering": false,
   "user_envs_cfg": false
  },
  "toc": {
   "base_numbering": 1,
   "nav_menu": {},
   "number_sections": true,
   "sideBar": true,
   "skip_h1_title": false,
   "title_cell": "Table of Contents",
   "title_sidebar": "Contents",
   "toc_cell": false,
   "toc_position": {},
   "toc_section_display": true,
   "toc_window_display": false
  },
  "varInspector": {
   "cols": {
    "lenName": 16,
    "lenType": 16,
    "lenVar": 40
   },
   "kernels_config": {
    "python": {
     "delete_cmd_postfix": "",
     "delete_cmd_prefix": "del ",
     "library": "var_list.py",
     "varRefreshCmd": "print(var_dic_list())"
    },
    "r": {
     "delete_cmd_postfix": ") ",
     "delete_cmd_prefix": "rm(",
     "library": "var_list.r",
     "varRefreshCmd": "cat(var_dic_list()) "
    }
   },
   "types_to_exclude": [
    "module",
    "function",
    "builtin_function_or_method",
    "instance",
    "_Feature"
   ],
   "window_display": false
  }
 },
 "nbformat": 4,
 "nbformat_minor": 4
}
